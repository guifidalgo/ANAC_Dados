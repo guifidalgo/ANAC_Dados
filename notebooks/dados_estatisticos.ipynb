{
 "cells": [
  {
   "cell_type": "code",
   "execution_count": 19,
   "id": "9381fa41",
   "metadata": {},
   "outputs": [],
   "source": [
    "import pandas as pd"
   ]
  },
  {
   "cell_type": "code",
   "execution_count": 20,
   "id": "0efba7a6",
   "metadata": {},
   "outputs": [],
   "source": [
    "url_25 = \"https://www.gov.br/anac/pt-br/assuntos/dados-e-estatisticas/dados-estatisticos/arquivos/base-de-dados-divididas-por-ano/2025\"\n",
    "url_24 = \"https://www.gov.br/anac/pt-br/assuntos/dados-e-estatisticas/dados-estatisticos/arquivos/base-de-dados-divididas-por-ano/2024\"\n",
    "\n",
    "df_25 = pd.read_csv(url_25, sep=';', encoding='latin1', decimal=',')\n",
    "df_24 = pd.read_csv(url_24, sep=';', encoding='latin1', decimal=',')\n",
    "# df = df[df['EMPRESA (NACIONALIDADE)'] == 'BRASILEIRA']\n",
    "# df = df[df['GRUPO DE VOO'].isin(['REGULAR', 'NÃO REGULAR'])]\n",
    "df = pd.concat([df_24, df_25], ignore_index=True)"
   ]
  },
  {
   "cell_type": "code",
   "execution_count": 21,
   "id": "0cc89094",
   "metadata": {},
   "outputs": [],
   "source": [
    "df['ano_mes'] = df['ANO'].astype(str) + df['MÊS'].astype(str).str.zfill(2)\n",
    "df['dt_referencia'] = pd.to_datetime(df['ano_mes'], format='%Y%m')"
   ]
  },
  {
   "cell_type": "code",
   "execution_count": null,
   "id": "84c50bb2",
   "metadata": {},
   "outputs": [],
   "source": [
    "df.to_csv('../data/anac_dados_estatisticos.csv', index=False)"
   ]
  }
 ],
 "metadata": {
  "kernelspec": {
   "display_name": "anac-dados (3.13.7)",
   "language": "python",
   "name": "python3"
  },
  "language_info": {
   "codemirror_mode": {
    "name": "ipython",
    "version": 3
   },
   "file_extension": ".py",
   "mimetype": "text/x-python",
   "name": "python",
   "nbconvert_exporter": "python",
   "pygments_lexer": "ipython3",
   "version": "3.13.7"
  }
 },
 "nbformat": 4,
 "nbformat_minor": 5
}
